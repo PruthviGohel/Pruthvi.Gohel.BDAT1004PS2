{
 "cells": [
  {
   "cell_type": "markdown",
   "id": "4c401738-0e33-4ea6-b213-ec86e1d403d5",
   "metadata": {},
   "source": [
    "<h1> Problem Set 2 </h1>"
   ]
  },
  {
   "cell_type": "markdown",
   "id": "1af7fab9-6675-407d-9dfe-14a140174519",
   "metadata": {},
   "source": [
    "<h2> Question 1</h2>"
   ]
  },
  {
   "cell_type": "code",
   "execution_count": 15,
   "id": "f187045c-d2f1-4e57-ae8b-d4cc704c4737",
   "metadata": {},
   "outputs": [
    {
     "name": "stdout",
     "output_type": "stream",
     "text": [
      "6\n"
     ]
    }
   ],
   "source": [
    "a = 0 #value of a is set to 0\n",
    " \n",
    "def b(): \n",
    "    global a # a is declared as global in order to modify\n",
    "    a = c(a) # here, initially a is set to 0\n",
    " \n",
    "def c(a): #c is defined\n",
    "    return a + 2\n",
    "\n",
    "b() #here, the value of a will be 0 + 2 = 2. 'a' is now updated to 2.\n",
    "b() #here, the value of a will be 2 + 2 = 4. 'a' is now updated to 4.\n",
    "b() #here, the value of a will be 4 + 2 = 6. 'a' is now updated to 6.\n",
    "print(a)"
   ]
  },
  {
   "cell_type": "markdown",
   "id": "4477ab81-2854-4801-9312-91eaa6a0bd3c",
   "metadata": {},
   "source": [
    "<h4> Explanation <h4>\n",
    "\n",
    "In the first execution of b(), first the b is called, which calles c(a). Initially the value of a is set to 0 and the resulting output is 0+2=2.\n",
    "\n",
    "In the first execution of b(), first the b is called, which calles c(a). Now, as the value of a is 2, the resulting output is 2+2=4.\n",
    "\n",
    "In the first execution of b(), first the b is called, which calles c(a). Now, as the value of a is 4, the resulting output is 4+2=6..\n"
   ]
  },
  {
   "cell_type": "markdown",
   "id": "b109846b-5f71-4a99-bc87-c925dbe15f53",
   "metadata": {},
   "source": [
    "<h2>Question 2</h2>"
   ]
  },
  {
   "cell_type": "code",
   "execution_count": 118,
   "id": "4233f696-15b7-4853-995f-eabf7bc7b8d2",
   "metadata": {},
   "outputs": [],
   "source": [
    "def fileLength(filename):\n",
    "    try:\n",
    "        with open(filename, 'r') as infile:\n",
    "            contents = infile.read()\n",
    "            return len(contents)\n",
    "    except FileNotFoundError:\n",
    "        print(f\"File {filename} not found.\")"
   ]
  },
  {
   "cell_type": "code",
   "execution_count": 132,
   "id": "97bb66d9-02ab-4e20-aaf8-6ea6ece7a47c",
   "metadata": {},
   "outputs": [
    {
     "data": {
      "text/plain": [
       "123"
      ]
     },
     "execution_count": 132,
     "metadata": {},
     "output_type": "execute_result"
    }
   ],
   "source": [
    "fileLength(\"C:/Users/pruth/OneDrive/Desktop/BDAT/Sem 1/Data Analytics Programming/Problem Set 2/Filelength.txt\")"
   ]
  },
  {
   "cell_type": "code",
   "execution_count": 130,
   "id": "ef089550-340a-469b-be93-1782514b9f77",
   "metadata": {},
   "outputs": [
    {
     "name": "stdout",
     "output_type": "stream",
     "text": [
      "File C:/Users/pruth/OneDrive/Desktop/BDAT/Sem 1/Data Analytics Programming/Problem Set 2/Filelengt.txt not found.\n"
     ]
    }
   ],
   "source": [
    "fileLength(\"C:/Users/pruth/OneDrive/Desktop/BDAT/Sem 1/Data Analytics Programming/Problem Set 2/Filelengt.txt\")"
   ]
  },
  {
   "cell_type": "markdown",
   "id": "eaaca45e-6925-482e-ba3f-c1da00d3ecfe",
   "metadata": {},
   "source": [
    "<h2>Question 3</h2>"
   ]
  },
  {
   "cell_type": "markdown",
   "id": "89e1fa8a-1906-4dbe-a84a-9d523fca364a",
   "metadata": {},
   "source": [
    "<h3>Marsupial Class</h3>"
   ]
  },
  {
   "cell_type": "code",
   "execution_count": 98,
   "id": "19c9797a-0ece-483c-820a-93c9f3b92688",
   "metadata": {},
   "outputs": [
    {
     "name": "stdout",
     "output_type": "stream",
     "text": [
      "['doll', 'firetruck', 'kitten']\n"
     ]
    }
   ],
   "source": [
    "class Marsupial:\n",
    "    def __init__(self):\n",
    "        self.pouch = [] #list to store pouch contents\n",
    "\n",
    "    def put_in_pouch(self, item):\n",
    "        self.pouch.append(item) # adding items to pouch list\n",
    "\n",
    "    def pouch_contents(self):\n",
    "        return self.pouch #returns the list of items in the pouch\n",
    "\n",
    "m = Marsupial() # creating a marsupial object\n",
    "m.put_in_pouch('doll') # adding doll in the pouch\n",
    "m.put_in_pouch('firetruck') # adding firetruck in the pouch\n",
    "m.put_in_pouch('kitten') # adding kitten in the pouch\n",
    "\n",
    "print(m.pouch_contents())\n"
   ]
  },
  {
   "cell_type": "markdown",
   "id": "517d95c6-affd-4ee5-92ca-e26d26debc08",
   "metadata": {},
   "source": [
    "<h3>Kangaroo Subclass</h3>"
   ]
  },
  {
   "cell_type": "code",
   "execution_count": 102,
   "id": "6bd413b8-efae-4734-b464-0a08e7b15e7d",
   "metadata": {},
   "outputs": [
    {
     "name": "stdout",
     "output_type": "stream",
     "text": [
      "I am a Kangaroo located at coordinates (0,0)\n",
      "['doll', 'firetruck', 'kitten']\n",
      "I am a Kangaroo located at coordinates (3,0)\n"
     ]
    }
   ],
   "source": [
    "class Kangaroo(Marsupial):\n",
    "    def __init__(self, x, y):\n",
    "        super().__init__()  # initialize marsupial\n",
    "        self.x = x # initialize coordinates\n",
    "        self.y = y\n",
    "\n",
    "    def jump(self, dx, dy):\n",
    "        self.x += dx # move coordinates by dx\n",
    "        self.y += dy # move coordinates by dy\n",
    "\n",
    "    def __str__(self):\n",
    "        return f\"I am a Kangaroo located at coordinates ({self.x},{self.y})\"\n",
    "\n",
    "k = Kangaroo(0, 0)\n",
    "print(k)\n",
    "\n",
    "k.put_in_pouch('doll')\n",
    "k.put_in_pouch('firetruck')\n",
    "k.put_in_pouch('kitten')\n",
    "print(k.pouch_contents())\n",
    "\n",
    "k.jump(1, 0)\n",
    "k.jump(1, 0)\n",
    "k.jump(1, 0)\n",
    "print(k)"
   ]
  },
  {
   "cell_type": "markdown",
   "id": "63ae042f-4896-4a6d-b8fa-2fef4d8ed983",
   "metadata": {},
   "source": [
    "<h2>Question 4</h2>"
   ]
  },
  {
   "cell_type": "code",
   "execution_count": 81,
   "id": "51c5376a-d1ae-4373-bb1b-c78e41a80f4d",
   "metadata": {},
   "outputs": [
    {
     "name": "stdout",
     "output_type": "stream",
     "text": [
      "1\n",
      "10\n",
      "5\n",
      "16\n",
      "8\n",
      "4\n",
      "2\n",
      "1\n"
     ]
    }
   ],
   "source": [
    "def collatz(x):\n",
    "    print(x) # current value of x\n",
    "    \n",
    "    if x == 1: # if value of x is 1, then stop\n",
    "        return\n",
    "    if x % 2 == 0:\n",
    "        collatz(x // 2)  # if value of x is even, divide it by 2\n",
    "    else:\n",
    "        collatz(3 * x + 1)  # if value of x is odd, multiply it by 3 and add 1\n",
    "\n",
    "collatz(1)\n",
    "collatz(10)"
   ]
  },
  {
   "cell_type": "markdown",
   "id": "02a21193-1487-420c-b92a-2fc54750c42f",
   "metadata": {},
   "source": [
    "<h2>Question 5</h2>"
   ]
  },
  {
   "cell_type": "code",
   "execution_count": 72,
   "id": "bf268bfa-600b-4539-9be3-3f23f687f628",
   "metadata": {},
   "outputs": [
    {
     "name": "stdout",
     "output_type": "stream",
     "text": [
      "0\n",
      "1\n",
      "11\n",
      "1001\n"
     ]
    }
   ],
   "source": [
    "def binary(n):\n",
    "    if n == 0: # if n is 0, print 0, end= to ensure output is in same line\n",
    "        print(0, end='')\n",
    "    elif n == 1: # if n is 1, print 1\n",
    "        print(1, end='')\n",
    "    else:\n",
    "        binary(n // 2) # divide by 2 and call quotient\n",
    "        print(n % 2, end='') #printing the remainder after the recursive call\n",
    "\n",
    "binary(0)\n",
    "print()\n",
    "\n",
    "binary(1)\n",
    "print()\n",
    "\n",
    "binary(3)\n",
    "print()\n",
    "\n",
    "binary(9)\n",
    "print()\n"
   ]
  },
  {
   "cell_type": "markdown",
   "id": "db6d7b36-93cd-47c1-9973-505a7c16d5e9",
   "metadata": {},
   "source": [
    "<h1>Question 6</h2>"
   ]
  },
  {
   "cell_type": "code",
   "execution_count": 15,
   "id": "bb3a501b-65b0-4107-b27b-458da7e5bb61",
   "metadata": {},
   "outputs": [
    {
     "name": "stdout",
     "output_type": "stream",
     "text": [
      "W3C Mission\n",
      " Principles\n"
     ]
    }
   ],
   "source": [
    "from html.parser import HTMLParser\n",
    "\n",
    "class HeadingParser(HTMLParser):\n",
    "    def __init__(self):\n",
    "        super().__init__()\n",
    "        self.in_heading = False\n",
    "        self.indent_level = 0 # it is a variable to store the current indentation level\n",
    "\n",
    "    def handle_starttag(self, tag, attrs):\n",
    "        if tag in ['h1', 'h2', 'h3', 'h4', 'h5', 'h6']: # check if it is a heading tag\n",
    "            self.in_heading = True\n",
    "            self.indent_level = int(tag[1]) - 1 # based on the heading tag, indentation is checked\n",
    "\n",
    "    def handle_endtag(self, tag):\n",
    "        if tag in ['h1', 'h2', 'h3', 'h4', 'h5', 'h6']: #if it is a heading tag, it resets the flag\n",
    "            self.in_heading = False\n",
    "\n",
    "    def handle_data(self, data):\n",
    "        if self.in_heading: #print with appropriate indentation\n",
    "            print(' ' * self.indent_level + data.strip())\n",
    "\n",
    "\n",
    "infile = open('C:/Users/pruth/OneDrive/Desktop/BDAT/Sem 1/Data Analytics Programming/Problem Set 2/w3c.html')\n",
    "content = infile.read()\n",
    "infile.close()\n",
    "hp = HeadingParser()\n",
    "hp.feed(content)"
   ]
  },
  {
   "cell_type": "markdown",
   "id": "698b81d5-9b56-4d0c-b688-b2f6171cfd2d",
   "metadata": {},
   "source": [
    "<h2>Question 7</h2>"
   ]
  },
  {
   "cell_type": "code",
   "execution_count": 136,
   "id": "a9a9d538-05d2-4001-a685-dc48000ab914",
   "metadata": {},
   "outputs": [
    {
     "name": "stdout",
     "output_type": "stream",
     "text": [
      "http://reed.cs.depaul.edu/lperkovic/csc242/test1.html\n",
      "    Error: 404 Client Error:  for url: http://reed.cs.depaul.edu/lperkovic/csc242/test1.html\n"
     ]
    }
   ],
   "source": [
    "import requests\n",
    "from bs4 import BeautifulSoup\n",
    "from urllib.parse import urljoin\n",
    "\n",
    "def webdir(url, depth, indent):\n",
    "    if depth < 0:   # if value of depth is 0, print the url plus stop recursion\n",
    "        return\n",
    "    \n",
    "    print(\" \" * indent + url)  # print the current url\n",
    "    try:\n",
    "       \n",
    "        response = requests.get(url)  # send http get request\n",
    "        response.raise_for_status()  # check for http error\n",
    "\n",
    "        soup = BeautifulSoup(response.text, 'html.parser')   # parse the html content\n",
    "        links = soup.find_all('a', href=True)\n",
    "        \n",
    "        for link in links:\n",
    "            new_url = urljoin(url, link['href'])\n",
    "            webdir(new_url, depth - 1, indent + 4)  # call webdir with depth reduced by 1 and increased indentation\n",
    "            \n",
    "    except requests.exceptions.RequestException as e:\n",
    "        print(\" \" * (indent + 4) + f\"Error: {e}\")\n",
    "\n",
    "webdir('http://reed.cs.depaul.edu/lperkovic/csc242/test1.html', 2, 0)"
   ]
  },
  {
   "cell_type": "markdown",
   "id": "6468ea4e-5a42-4f6c-8cf5-61de9d38b2a1",
   "metadata": {},
   "source": [
    "<h2>Question 8</h2>"
   ]
  },
  {
   "cell_type": "code",
   "execution_count": 108,
   "id": "6dcf892a-30c2-4101-9fa3-db135424bccb",
   "metadata": {},
   "outputs": [],
   "source": [
    "import sqlite3\n",
    "\n",
    "conn = sqlite3.connect(\":memory:\") # connecting to database\n",
    "cursor = conn.cursor()\n",
    "\n",
    "cursor.execute('''\n",
    "    CREATE TABLE Weather (\n",
    "        City TEXT,\n",
    "        Country TEXT,\n",
    "        Season TEXT,\n",
    "        Temperature REAL,\n",
    "        Rainfall REAL\n",
    "    )\n",
    "''') # created the table\n",
    "\n",
    "data = [\n",
    "    ('Mumbai', 'India', 'Winter', 24.8, 5.9),\n",
    "    ('Mumbai', 'India', 'Spring', 28.4, 16.2),\n",
    "    ('Mumbai', 'India', 'Summer', 27.9, 1549.4),\n",
    "    ('Mumbai', 'India', 'Fall', 27.6, 346.0),\n",
    "    ('London', 'United Kingdom', 'Winter', 4.2, 207.7),\n",
    "    ('London', 'United Kingdom', 'Spring', 8.3, 169.6),\n",
    "    ('London', 'United Kingdom', 'Summer', 15.7, 157.0),\n",
    "    ('London', 'United Kingdom', 'Fall', 10.4, 218.5),\n",
    "    ('Cairo', 'Egypt', 'Winter', 13.6, 16.5),\n",
    "    ('Cairo', 'Egypt', 'Spring', 20.7, 6.5),\n",
    "    ('Cairo', 'Egypt', 'Summer', 27.7, 0.1),\n",
    "    ('Cairo', 'Egypt', 'Fall', 22.2, 4.5)\n",
    "]\n",
    "\n",
    "cursor.executemany('INSERT INTO Weather VALUES (?, ?, ?, ?, ?)', data)\n",
    "conn.commit()"
   ]
  },
  {
   "cell_type": "code",
   "execution_count": 87,
   "id": "b23c583c-9f51-4938-ad21-dda669659820",
   "metadata": {},
   "outputs": [],
   "source": [
    "import pandas as pd # to display output in table format"
   ]
  },
  {
   "cell_type": "markdown",
   "id": "7f832ff6-1d5c-41a1-9184-ce6e39fe9ca5",
   "metadata": {},
   "source": [
    "<h3>All the temperature data. </h3>"
   ]
  },
  {
   "cell_type": "code",
   "execution_count": 89,
   "id": "4039f9af-27b1-4863-84ab-936ddad26fbc",
   "metadata": {},
   "outputs": [
    {
     "data": {
      "text/html": [
       "<div>\n",
       "<style scoped>\n",
       "    .dataframe tbody tr th:only-of-type {\n",
       "        vertical-align: middle;\n",
       "    }\n",
       "\n",
       "    .dataframe tbody tr th {\n",
       "        vertical-align: top;\n",
       "    }\n",
       "\n",
       "    .dataframe thead th {\n",
       "        text-align: right;\n",
       "    }\n",
       "</style>\n",
       "<table border=\"1\" class=\"dataframe\">\n",
       "  <thead>\n",
       "    <tr style=\"text-align: right;\">\n",
       "      <th></th>\n",
       "      <th>Temperature</th>\n",
       "    </tr>\n",
       "  </thead>\n",
       "  <tbody>\n",
       "    <tr>\n",
       "      <th>0</th>\n",
       "      <td>24.8</td>\n",
       "    </tr>\n",
       "    <tr>\n",
       "      <th>1</th>\n",
       "      <td>28.4</td>\n",
       "    </tr>\n",
       "    <tr>\n",
       "      <th>2</th>\n",
       "      <td>27.9</td>\n",
       "    </tr>\n",
       "    <tr>\n",
       "      <th>3</th>\n",
       "      <td>27.6</td>\n",
       "    </tr>\n",
       "    <tr>\n",
       "      <th>4</th>\n",
       "      <td>4.2</td>\n",
       "    </tr>\n",
       "    <tr>\n",
       "      <th>5</th>\n",
       "      <td>8.3</td>\n",
       "    </tr>\n",
       "    <tr>\n",
       "      <th>6</th>\n",
       "      <td>15.7</td>\n",
       "    </tr>\n",
       "    <tr>\n",
       "      <th>7</th>\n",
       "      <td>10.4</td>\n",
       "    </tr>\n",
       "    <tr>\n",
       "      <th>8</th>\n",
       "      <td>13.6</td>\n",
       "    </tr>\n",
       "    <tr>\n",
       "      <th>9</th>\n",
       "      <td>20.7</td>\n",
       "    </tr>\n",
       "    <tr>\n",
       "      <th>10</th>\n",
       "      <td>27.7</td>\n",
       "    </tr>\n",
       "    <tr>\n",
       "      <th>11</th>\n",
       "      <td>22.2</td>\n",
       "    </tr>\n",
       "  </tbody>\n",
       "</table>\n",
       "</div>"
      ],
      "text/plain": [
       "    Temperature\n",
       "0          24.8\n",
       "1          28.4\n",
       "2          27.9\n",
       "3          27.6\n",
       "4           4.2\n",
       "5           8.3\n",
       "6          15.7\n",
       "7          10.4\n",
       "8          13.6\n",
       "9          20.7\n",
       "10         27.7\n",
       "11         22.2"
      ]
     },
     "metadata": {},
     "output_type": "display_data"
    }
   ],
   "source": [
    "query = \"SELECT Temperature FROM Weather\"\n",
    "df_a = pd.read_sql_query(query, conn)\n",
    "display(df_a)"
   ]
  },
  {
   "cell_type": "markdown",
   "id": "ecdcc2a5-7370-441b-89e4-92ce718e33aa",
   "metadata": {},
   "source": [
    "<h3>All the cities, but without repetition.<h3>"
   ]
  },
  {
   "cell_type": "code",
   "execution_count": 92,
   "id": "ac9944cd-1154-4e2c-9347-875fd05cbc2b",
   "metadata": {},
   "outputs": [
    {
     "data": {
      "text/html": [
       "<div>\n",
       "<style scoped>\n",
       "    .dataframe tbody tr th:only-of-type {\n",
       "        vertical-align: middle;\n",
       "    }\n",
       "\n",
       "    .dataframe tbody tr th {\n",
       "        vertical-align: top;\n",
       "    }\n",
       "\n",
       "    .dataframe thead th {\n",
       "        text-align: right;\n",
       "    }\n",
       "</style>\n",
       "<table border=\"1\" class=\"dataframe\">\n",
       "  <thead>\n",
       "    <tr style=\"text-align: right;\">\n",
       "      <th></th>\n",
       "      <th>City</th>\n",
       "    </tr>\n",
       "  </thead>\n",
       "  <tbody>\n",
       "    <tr>\n",
       "      <th>0</th>\n",
       "      <td>Mumbai</td>\n",
       "    </tr>\n",
       "    <tr>\n",
       "      <th>1</th>\n",
       "      <td>London</td>\n",
       "    </tr>\n",
       "    <tr>\n",
       "      <th>2</th>\n",
       "      <td>Cairo</td>\n",
       "    </tr>\n",
       "  </tbody>\n",
       "</table>\n",
       "</div>"
      ],
      "text/plain": [
       "     City\n",
       "0  Mumbai\n",
       "1  London\n",
       "2   Cairo"
      ]
     },
     "metadata": {},
     "output_type": "display_data"
    }
   ],
   "source": [
    "query = \"SELECT DISTINCT City FROM Weather\"\n",
    "df_b = pd.read_sql_query(query, conn)\n",
    "display(df_b)"
   ]
  },
  {
   "cell_type": "markdown",
   "id": "c59469c4-3109-43ab-acbd-3855f4b5ab85",
   "metadata": {},
   "source": [
    "<h3>All the records for India. </h3>"
   ]
  },
  {
   "cell_type": "code",
   "execution_count": 94,
   "id": "be1fd4d9-ec16-4a08-a020-0504ea30ca03",
   "metadata": {},
   "outputs": [
    {
     "data": {
      "text/html": [
       "<div>\n",
       "<style scoped>\n",
       "    .dataframe tbody tr th:only-of-type {\n",
       "        vertical-align: middle;\n",
       "    }\n",
       "\n",
       "    .dataframe tbody tr th {\n",
       "        vertical-align: top;\n",
       "    }\n",
       "\n",
       "    .dataframe thead th {\n",
       "        text-align: right;\n",
       "    }\n",
       "</style>\n",
       "<table border=\"1\" class=\"dataframe\">\n",
       "  <thead>\n",
       "    <tr style=\"text-align: right;\">\n",
       "      <th></th>\n",
       "      <th>City</th>\n",
       "      <th>Country</th>\n",
       "      <th>Season</th>\n",
       "      <th>Temperature</th>\n",
       "      <th>Rainfall</th>\n",
       "    </tr>\n",
       "  </thead>\n",
       "  <tbody>\n",
       "    <tr>\n",
       "      <th>0</th>\n",
       "      <td>Mumbai</td>\n",
       "      <td>India</td>\n",
       "      <td>Winter</td>\n",
       "      <td>24.8</td>\n",
       "      <td>5.9</td>\n",
       "    </tr>\n",
       "    <tr>\n",
       "      <th>1</th>\n",
       "      <td>Mumbai</td>\n",
       "      <td>India</td>\n",
       "      <td>Spring</td>\n",
       "      <td>28.4</td>\n",
       "      <td>16.2</td>\n",
       "    </tr>\n",
       "    <tr>\n",
       "      <th>2</th>\n",
       "      <td>Mumbai</td>\n",
       "      <td>India</td>\n",
       "      <td>Summer</td>\n",
       "      <td>27.9</td>\n",
       "      <td>1549.4</td>\n",
       "    </tr>\n",
       "    <tr>\n",
       "      <th>3</th>\n",
       "      <td>Mumbai</td>\n",
       "      <td>India</td>\n",
       "      <td>Fall</td>\n",
       "      <td>27.6</td>\n",
       "      <td>346.0</td>\n",
       "    </tr>\n",
       "  </tbody>\n",
       "</table>\n",
       "</div>"
      ],
      "text/plain": [
       "     City Country  Season  Temperature  Rainfall\n",
       "0  Mumbai   India  Winter         24.8       5.9\n",
       "1  Mumbai   India  Spring         28.4      16.2\n",
       "2  Mumbai   India  Summer         27.9    1549.4\n",
       "3  Mumbai   India    Fall         27.6     346.0"
      ]
     },
     "metadata": {},
     "output_type": "display_data"
    }
   ],
   "source": [
    "query = \"SELECT * FROM Weather WHERE Country = 'India'\"\n",
    "df_c = pd.read_sql_query(query, conn)\n",
    "display(df_c)"
   ]
  },
  {
   "cell_type": "markdown",
   "id": "10a0ad6b-12d7-4d3c-9239-2c5464a2eb29",
   "metadata": {},
   "source": [
    "<h3>All the Fall records.</h3>"
   ]
  },
  {
   "cell_type": "code",
   "execution_count": 96,
   "id": "c3238031-de8b-4be8-9b17-aeb7743c8f79",
   "metadata": {},
   "outputs": [
    {
     "data": {
      "text/html": [
       "<div>\n",
       "<style scoped>\n",
       "    .dataframe tbody tr th:only-of-type {\n",
       "        vertical-align: middle;\n",
       "    }\n",
       "\n",
       "    .dataframe tbody tr th {\n",
       "        vertical-align: top;\n",
       "    }\n",
       "\n",
       "    .dataframe thead th {\n",
       "        text-align: right;\n",
       "    }\n",
       "</style>\n",
       "<table border=\"1\" class=\"dataframe\">\n",
       "  <thead>\n",
       "    <tr style=\"text-align: right;\">\n",
       "      <th></th>\n",
       "      <th>City</th>\n",
       "      <th>Country</th>\n",
       "      <th>Season</th>\n",
       "      <th>Temperature</th>\n",
       "      <th>Rainfall</th>\n",
       "    </tr>\n",
       "  </thead>\n",
       "  <tbody>\n",
       "    <tr>\n",
       "      <th>0</th>\n",
       "      <td>Mumbai</td>\n",
       "      <td>India</td>\n",
       "      <td>Fall</td>\n",
       "      <td>27.6</td>\n",
       "      <td>346.0</td>\n",
       "    </tr>\n",
       "    <tr>\n",
       "      <th>1</th>\n",
       "      <td>London</td>\n",
       "      <td>United Kingdom</td>\n",
       "      <td>Fall</td>\n",
       "      <td>10.4</td>\n",
       "      <td>218.5</td>\n",
       "    </tr>\n",
       "    <tr>\n",
       "      <th>2</th>\n",
       "      <td>Cairo</td>\n",
       "      <td>Egypt</td>\n",
       "      <td>Fall</td>\n",
       "      <td>22.2</td>\n",
       "      <td>4.5</td>\n",
       "    </tr>\n",
       "  </tbody>\n",
       "</table>\n",
       "</div>"
      ],
      "text/plain": [
       "     City         Country Season  Temperature  Rainfall\n",
       "0  Mumbai           India   Fall         27.6     346.0\n",
       "1  London  United Kingdom   Fall         10.4     218.5\n",
       "2   Cairo           Egypt   Fall         22.2       4.5"
      ]
     },
     "metadata": {},
     "output_type": "display_data"
    }
   ],
   "source": [
    "query = \"SELECT * FROM Weather WHERE Season = 'Fall'\"\n",
    "df_d = pd.read_sql_query(query, conn)\n",
    "display(df_d)"
   ]
  },
  {
   "cell_type": "markdown",
   "id": "832358c0-25e4-430c-afbd-55e0a80c7465",
   "metadata": {},
   "source": [
    "<h3>The city, country, and season for which the average rainfall is between 200 \r\n",
    "and 400 millimeters. </h3>"
   ]
  },
  {
   "cell_type": "code",
   "execution_count": 98,
   "id": "ad8517c9-5400-463c-b7a8-e8c7cd709b4f",
   "metadata": {},
   "outputs": [
    {
     "data": {
      "text/html": [
       "<div>\n",
       "<style scoped>\n",
       "    .dataframe tbody tr th:only-of-type {\n",
       "        vertical-align: middle;\n",
       "    }\n",
       "\n",
       "    .dataframe tbody tr th {\n",
       "        vertical-align: top;\n",
       "    }\n",
       "\n",
       "    .dataframe thead th {\n",
       "        text-align: right;\n",
       "    }\n",
       "</style>\n",
       "<table border=\"1\" class=\"dataframe\">\n",
       "  <thead>\n",
       "    <tr style=\"text-align: right;\">\n",
       "      <th></th>\n",
       "      <th>City</th>\n",
       "      <th>Country</th>\n",
       "      <th>Season</th>\n",
       "    </tr>\n",
       "  </thead>\n",
       "  <tbody>\n",
       "    <tr>\n",
       "      <th>0</th>\n",
       "      <td>Mumbai</td>\n",
       "      <td>India</td>\n",
       "      <td>Fall</td>\n",
       "    </tr>\n",
       "    <tr>\n",
       "      <th>1</th>\n",
       "      <td>London</td>\n",
       "      <td>United Kingdom</td>\n",
       "      <td>Winter</td>\n",
       "    </tr>\n",
       "    <tr>\n",
       "      <th>2</th>\n",
       "      <td>London</td>\n",
       "      <td>United Kingdom</td>\n",
       "      <td>Fall</td>\n",
       "    </tr>\n",
       "  </tbody>\n",
       "</table>\n",
       "</div>"
      ],
      "text/plain": [
       "     City         Country  Season\n",
       "0  Mumbai           India    Fall\n",
       "1  London  United Kingdom  Winter\n",
       "2  London  United Kingdom    Fall"
      ]
     },
     "metadata": {},
     "output_type": "display_data"
    }
   ],
   "source": [
    "query = \"\"\"\n",
    "    SELECT City, Country, Season \n",
    "    FROM Weather \n",
    "    WHERE Rainfall BETWEEN 200 AND 400\n",
    "\"\"\"\n",
    "df_e = pd.read_sql_query(query, conn)\n",
    "display(df_e)"
   ]
  },
  {
   "cell_type": "markdown",
   "id": "3d6a84b0-021f-4418-8bd8-95af03ce5cd2",
   "metadata": {},
   "source": [
    "<h3>The city and country for which the average Fall temperature is above 20 \r\n",
    "degrees, in increasing temperature order. </h3>"
   ]
  },
  {
   "cell_type": "code",
   "execution_count": 100,
   "id": "0d40daf8-cfbc-4356-b4bf-da73150ccda8",
   "metadata": {},
   "outputs": [
    {
     "data": {
      "text/html": [
       "<div>\n",
       "<style scoped>\n",
       "    .dataframe tbody tr th:only-of-type {\n",
       "        vertical-align: middle;\n",
       "    }\n",
       "\n",
       "    .dataframe tbody tr th {\n",
       "        vertical-align: top;\n",
       "    }\n",
       "\n",
       "    .dataframe thead th {\n",
       "        text-align: right;\n",
       "    }\n",
       "</style>\n",
       "<table border=\"1\" class=\"dataframe\">\n",
       "  <thead>\n",
       "    <tr style=\"text-align: right;\">\n",
       "      <th></th>\n",
       "      <th>City</th>\n",
       "      <th>Country</th>\n",
       "    </tr>\n",
       "  </thead>\n",
       "  <tbody>\n",
       "    <tr>\n",
       "      <th>0</th>\n",
       "      <td>Cairo</td>\n",
       "      <td>Egypt</td>\n",
       "    </tr>\n",
       "    <tr>\n",
       "      <th>1</th>\n",
       "      <td>Mumbai</td>\n",
       "      <td>India</td>\n",
       "    </tr>\n",
       "  </tbody>\n",
       "</table>\n",
       "</div>"
      ],
      "text/plain": [
       "     City Country\n",
       "0   Cairo   Egypt\n",
       "1  Mumbai   India"
      ]
     },
     "metadata": {},
     "output_type": "display_data"
    }
   ],
   "source": [
    "query = \"\"\"\n",
    "    SELECT City, Country \n",
    "    FROM Weather \n",
    "    WHERE Season = 'Fall' AND Temperature > 20 \n",
    "    ORDER BY Temperature ASC\n",
    "\"\"\"\n",
    "df_f = pd.read_sql_query(query, conn)\n",
    "display(df_f)"
   ]
  },
  {
   "cell_type": "markdown",
   "id": "a24273d0-6234-4184-a59c-7d3860924c45",
   "metadata": {},
   "source": [
    "<h3>The total annual rainfall for Cairo.</h3>"
   ]
  },
  {
   "cell_type": "code",
   "execution_count": 102,
   "id": "e8b4a19a-8067-45a9-ba86-1fd27e97c03c",
   "metadata": {},
   "outputs": [
    {
     "data": {
      "text/html": [
       "<div>\n",
       "<style scoped>\n",
       "    .dataframe tbody tr th:only-of-type {\n",
       "        vertical-align: middle;\n",
       "    }\n",
       "\n",
       "    .dataframe tbody tr th {\n",
       "        vertical-align: top;\n",
       "    }\n",
       "\n",
       "    .dataframe thead th {\n",
       "        text-align: right;\n",
       "    }\n",
       "</style>\n",
       "<table border=\"1\" class=\"dataframe\">\n",
       "  <thead>\n",
       "    <tr style=\"text-align: right;\">\n",
       "      <th></th>\n",
       "      <th>City</th>\n",
       "      <th>Total_Rainfall</th>\n",
       "    </tr>\n",
       "  </thead>\n",
       "  <tbody>\n",
       "    <tr>\n",
       "      <th>0</th>\n",
       "      <td>Cairo</td>\n",
       "      <td>27.6</td>\n",
       "    </tr>\n",
       "  </tbody>\n",
       "</table>\n",
       "</div>"
      ],
      "text/plain": [
       "    City  Total_Rainfall\n",
       "0  Cairo            27.6"
      ]
     },
     "metadata": {},
     "output_type": "display_data"
    }
   ],
   "source": [
    "query = \"\"\"\n",
    "    SELECT City, SUM(Rainfall) AS Total_Rainfall \n",
    "    FROM Weather \n",
    "    WHERE City = 'Cairo'\n",
    "\"\"\"\n",
    "df_g = pd.read_sql_query(query, conn)\n",
    "display(df_g)"
   ]
  },
  {
   "cell_type": "markdown",
   "id": "43d9e346-20a7-4891-b1fd-8d9482476572",
   "metadata": {},
   "source": [
    "<h3>The total rainfall for each season.</h3>"
   ]
  },
  {
   "cell_type": "code",
   "execution_count": 106,
   "id": "ac4d05a9-af0c-483f-afb6-71571706bd1e",
   "metadata": {},
   "outputs": [
    {
     "data": {
      "text/html": [
       "<div>\n",
       "<style scoped>\n",
       "    .dataframe tbody tr th:only-of-type {\n",
       "        vertical-align: middle;\n",
       "    }\n",
       "\n",
       "    .dataframe tbody tr th {\n",
       "        vertical-align: top;\n",
       "    }\n",
       "\n",
       "    .dataframe thead th {\n",
       "        text-align: right;\n",
       "    }\n",
       "</style>\n",
       "<table border=\"1\" class=\"dataframe\">\n",
       "  <thead>\n",
       "    <tr style=\"text-align: right;\">\n",
       "      <th></th>\n",
       "      <th>Season</th>\n",
       "      <th>Total_Rainfall</th>\n",
       "    </tr>\n",
       "  </thead>\n",
       "  <tbody>\n",
       "    <tr>\n",
       "      <th>0</th>\n",
       "      <td>Fall</td>\n",
       "      <td>569.0</td>\n",
       "    </tr>\n",
       "    <tr>\n",
       "      <th>1</th>\n",
       "      <td>Spring</td>\n",
       "      <td>192.3</td>\n",
       "    </tr>\n",
       "    <tr>\n",
       "      <th>2</th>\n",
       "      <td>Summer</td>\n",
       "      <td>1706.5</td>\n",
       "    </tr>\n",
       "    <tr>\n",
       "      <th>3</th>\n",
       "      <td>Winter</td>\n",
       "      <td>230.1</td>\n",
       "    </tr>\n",
       "  </tbody>\n",
       "</table>\n",
       "</div>"
      ],
      "text/plain": [
       "   Season  Total_Rainfall\n",
       "0    Fall           569.0\n",
       "1  Spring           192.3\n",
       "2  Summer          1706.5\n",
       "3  Winter           230.1"
      ]
     },
     "metadata": {},
     "output_type": "display_data"
    }
   ],
   "source": [
    "query = \"\"\"\n",
    "    SELECT Season, SUM(Rainfall) AS Total_Rainfall \n",
    "    FROM Weather \n",
    "    GROUP BY Season\n",
    "\"\"\"\n",
    "df_h = pd.read_sql_query(query, conn)\n",
    "display(df_h)"
   ]
  },
  {
   "cell_type": "markdown",
   "id": "9032fb8e-d92e-41b2-8d0b-639ddeda15f0",
   "metadata": {},
   "source": [
    "<h2>Question 9</h2>"
   ]
  },
  {
   "cell_type": "code",
   "execution_count": 52,
   "id": "275c43dd-4eb4-4f4b-a7b1-fd70721ab050",
   "metadata": {},
   "outputs": [
    {
     "name": "stdout",
     "output_type": "stream",
     "text": [
      "['THE', 'QUICK', 'BROWN', 'FOX', 'JUMPS', 'OVER', 'THE', 'LAZY', 'DOG']\n"
     ]
    }
   ],
   "source": [
    "words = ['The', 'quick', 'brown', 'fox', 'jumps', 'over', 'the', 'lazy', 'dog']\n",
    "\n",
    "uppercase = [word.upper() for word in words]\n",
    "print(uppercase)"
   ]
  },
  {
   "cell_type": "code",
   "execution_count": 62,
   "id": "8d5a9e69-1168-49d1-847c-adf7141bbcf7",
   "metadata": {},
   "outputs": [
    {
     "name": "stdout",
     "output_type": "stream",
     "text": [
      "['the', 'quick', 'brown', 'fox', 'jumps', 'over', 'the', 'lazy', 'dog']\n"
     ]
    }
   ],
   "source": [
    "lowercase = [word.lower() for word in words]\n",
    "print(lowercase)"
   ]
  },
  {
   "cell_type": "code",
   "execution_count": 28,
   "id": "1384572c-b480-4a02-acfa-5f39dd486e8f",
   "metadata": {},
   "outputs": [
    {
     "name": "stdout",
     "output_type": "stream",
     "text": [
      "[3, 5, 5, 3, 5, 4, 3, 4, 3]\n"
     ]
    }
   ],
   "source": [
    "word_length = [len(word) for word in words]\n",
    "print(word_length)"
   ]
  },
  {
   "cell_type": "code",
   "execution_count": 48,
   "id": "20a4bb19-0dfc-49f6-a779-7c22f0c16d30",
   "metadata": {},
   "outputs": [
    {
     "name": "stdout",
     "output_type": "stream",
     "text": [
      "[['THE', 'the', 3], ['QUICK', 'quick', 5], ['BROWN', 'brown', 5], ['FOX', 'fox', 3], ['JUMPS', 'jumps', 5], ['OVER', 'over', 4], ['THE', 'the', 3], ['LAZY', 'lazy', 4], ['DOG', 'dog', 3]]\n"
     ]
    }
   ],
   "source": [
    "word_detail = [[word.upper(), word.lower(), len(word)] for word in words]\n",
    "print(word_detail)"
   ]
  },
  {
   "cell_type": "code",
   "execution_count": 40,
   "id": "d42f3627-5a1c-45b7-b3bd-2ee9eacb5c88",
   "metadata": {},
   "outputs": [
    {
     "name": "stdout",
     "output_type": "stream",
     "text": [
      "['quick', 'brown', 'jumps', 'over', 'lazy']\n"
     ]
    }
   ],
   "source": [
    "long_word = [word for word in words if len(word) >= 4]\n",
    "print(long_word)"
   ]
  }
 ],
 "metadata": {
  "kernelspec": {
   "display_name": "Python 3 (ipykernel)",
   "language": "python",
   "name": "python3"
  },
  "language_info": {
   "codemirror_mode": {
    "name": "ipython",
    "version": 3
   },
   "file_extension": ".py",
   "mimetype": "text/x-python",
   "name": "python",
   "nbconvert_exporter": "python",
   "pygments_lexer": "ipython3",
   "version": "3.12.4"
  }
 },
 "nbformat": 4,
 "nbformat_minor": 5
}
